question 1:

user=input()
up_count=0
lo_count=0
for i in user:
    if i.islower():
        lo_count+=1
    else:
        up_count+=1
if up_count>lo_count:
    print(user.upper())
else:
    print(user.lower())

question 2:
import string
user=input()
char_count=0
num="0123456789"
num_count=0
for i in user:
  if i in string.ascii_letters:
    char_count+=1
  else:
    num_count+=1
if num_count==0:
  print("WORD")
elif num_count<len(user):
  print("MIXED")
else:
  print("NUMBER")

question 3:
import string
user=input()
up_count=0
for i in user:
  if i in string.ascii_uppercase:
    up_count+=1
if up_count==2:
  for i in user:
    if i.isupper():
      first=user.find(i)
      new_str=user.replace(i,i.lower())
      break

  for i in new_str:
    if i.isupper():
     end_game=user.find(i)
     break
  var=user[f+1:end_game]
  if var!="":
    print(var)
  else:
    print("BLANK")
