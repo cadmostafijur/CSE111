{
  "nbformat": 4,
  "nbformat_minor": 0,
  "metadata": {
    "colab": {
      "provenance": []
    },
    "kernelspec": {
      "name": "python3",
      "display_name": "Python 3"
    },
    "language_info": {
      "name": "python"
    }
  },
  "cells": [
    {
      "cell_type": "code",
      "execution_count": null,
      "metadata": {
        "colab": {
          "base_uri": "https://localhost:8080/"
        },
        "id": "xqTlXJX5p3TH",
        "outputId": "0de9abde-ac88-4a50-b4e7-1d86af12d21d"
      },
      "outputs": [
        {
          "output_type": "stream",
          "name": "stdout",
          "text": [
            "ljhgfjmgf\n",
            "ljhgfjmgf\n"
          ]
        }
      ],
      "source": [
        "user=input()\n",
        "up_count=0\n",
        "lo_count=0\n",
        "for i in user:\n",
        "    if i.islower():\n",
        "        lo_count+=1\n",
        "    else:\n",
        "        up_count+=1\n",
        "if up_count>lo_count:\n",
        "    print(user.upper())\n",
        "else:\n",
        "    print(user.lower())"
      ]
    },
    {
      "cell_type": "code",
      "source": [
        "import string\n",
        "user=input()\n",
        "char_count=0\n",
        "num=\"0123456789\"\n",
        "num_count=0\n",
        "for i in user:\n",
        "  if i in string.ascii_letters:\n",
        "    char_count+=1\n",
        "  else:\n",
        "    num_count+=1\n",
        "if num_count==0:\n",
        "  print(\"WORD\")\n",
        "elif num_count<len(user):\n",
        "  print(\"MIXED\")\n",
        "else:\n",
        "  print(\"NUMBER\")"
      ],
      "metadata": {
        "colab": {
          "base_uri": "https://localhost:8080/"
        },
        "id": "mirXUY2zsCl4",
        "outputId": "da2a4c18-1b9e-483a-b7ee-1cecca91f0a9"
      },
      "execution_count": null,
      "outputs": [
        {
          "output_type": "stream",
          "name": "stdout",
          "text": [
            "terhytrhr\n",
            "WORD\n"
          ]
        }
      ]
    },
    {
      "cell_type": "code",
      "source": [
        "import string\n",
        "user=input()\n",
        "up_count=0\n",
        "for i in user:\n",
        "  if i in string.ascii_uppercase:\n",
        "    up_count+=1\n",
        "if up_count==2:\n",
        "  for i in user:\n",
        "    if i.isupper():\n",
        "      first=user.find(i)\n",
        "      new_str=user.replace(i,i.lower())\n",
        "      break\n",
        "\n",
        "  for i in new_str:\n",
        "    if i.isupper():\n",
        "     end_game=user.find(i)\n",
        "     break\n",
        "  var=user[f+1:end_game]\n",
        "  if var!=\"\":\n",
        "    print(var)\n",
        "  else:\n",
        "    print(\"BLANK\")"
      ],
      "metadata": {
        "colab": {
          "base_uri": "https://localhost:8080/"
        },
        "id": "P0wSLtbaupK4",
        "outputId": "9f972e59-f9b4-4658-daf9-55636109226f"
      },
      "execution_count": null,
      "outputs": [
        {
          "name": "stdout",
          "output_type": "stream",
          "text": [
            "htryytkyk\n"
          ]
        }
      ]
    },
    {
      "cell_type": "code",
      "source": [
        "user=input().split(\",\")\n",
        "new_str=\"\"\n",
        "if len(user[0])<len(user[1]):\n",
        "  match_str=user[1]\n",
        "  str_vchar=user[0]\n",
        "else:\n",
        "  match_str=user[0]\n",
        "  str_vchar=user[1]\n",
        "for i in  str_vchar:\n",
        "  if i in match_str:\n",
        "    new_str+=i\n",
        "for i in match_str:\n",
        "  if i in str_vchar:\n",
        "    new_str+=i\n",
        "if new_str==\"\":\n",
        "  print(\"Nothing is common\")\n",
        "else:\n",
        "  print(new_str)"
      ],
      "metadata": {
        "colab": {
          "base_uri": "https://localhost:8080/"
        },
        "id": "ABKOHCk9xJdP",
        "outputId": "267a7cf5-da14-4b4a-f40a-743be4b75ceb"
      },
      "execution_count": null,
      "outputs": [
        {
          "output_type": "stream",
          "name": "stdout",
          "text": [
            "harry, hermione\n",
            "hrrhr\n"
          ]
        }
      ]
    },
    {
      "cell_type": "code",
      "source": [
        "#Task5\n",
        "\n",
        "def special_character(char):\n",
        "    sp_char = \"_$#@\"\n",
        "    if char in sp_char:\n",
        "        return True\n",
        "    else:\n",
        "        return False\n",
        "\n",
        "\n",
        "def user_password(password):\n",
        "    lo_count = sum(map(str.islower, password))\n",
        "    up_count = sum(map(str.isupper, password))\n",
        "    num_count = sum(map(str.isdigit, password))\n",
        "    sp_count = sum(map(special_character, password))\n",
        "    comment = \"\"\n",
        "    if lo_count == 0:\n",
        "        comment = \"Lowercase Chracter Missing\"\n",
        "\n",
        "    if up_count == 0:\n",
        "        if comment != \"\":\n",
        "            comment += \", \"\n",
        "        comment += \"Uppercase Chracter Missing\"\n",
        "\n",
        "    if num_count == 0:\n",
        "        if comment != \"\":\n",
        "            comment += \", \"\n",
        "        comment += \"Digit Missing\"\n",
        "\n",
        "    if sp_count == 0:\n",
        "        if comment != \"\":\n",
        "            comment += \", \"\n",
        "        comment += \"Special Chracter Missing\"\n",
        "\n",
        "    if comment == \"\":\n",
        "        print(\"OK\")\n",
        "    else:\n",
        "      print(comment)\n",
        "        \n",
        "word = input()\n",
        "user_password(word)"
      ],
      "metadata": {
        "id": "jr-jXlcm-ITi",
        "colab": {
          "base_uri": "https://localhost:8080/"
        },
        "outputId": "d712c625-8b56-4696-da06-79e4c1a80a33"
      },
      "execution_count": null,
      "outputs": [
        {
          "output_type": "stream",
          "name": "stdout",
          "text": [
            "gfgv6756231@hcSD\n",
            "OK\n"
          ]
        }
      ]
    },
    {
      "cell_type": "markdown",
      "source": [
        "**List**"
      ],
      "metadata": {
        "id": "A3JzLpJvKAEq"
      }
    },
    {
      "cell_type": "code",
      "source": [
        "\"\"\"first take a emty list then while true condtion user input\n",
        "if user input stop then the condtion break and all input append\n",
        "in list then i use for loop and calll all the vale of list and count the number\n",
        "another condition in for loop so we need a emty list and\n",
        "the condtion is id x not i done then append in done list \n",
        "and print( print(x, '-', count , 'times')) \"\"\"\n",
        "\n",
        "lit=[]\n",
        "while True:\n",
        "  user=input()\n",
        "  if user.upper()==\"STOP\":\n",
        "    break\n",
        "  lit.append(user)\n",
        "done=[]\n",
        "for x in lit:\n",
        "  count = lit.count(x)\n",
        "  if x not in done:\n",
        "    done.append(x)\n",
        "    print(x, '-', count , 'times')"
      ],
      "metadata": {
        "colab": {
          "base_uri": "https://localhost:8080/"
        },
        "id": "ijdRbDJDKPpP",
        "outputId": "7d2544a6-d952-4b86-8d2c-cd73527955e4"
      },
      "execution_count": null,
      "outputs": [
        {
          "output_type": "stream",
          "name": "stdout",
          "text": [
            "10\n",
            "20\n",
            "10\n",
            "30\n",
            "30\n",
            "445\n",
            "stop\n",
            "10 - 2 times\n",
            "20 - 1 times\n",
            "30 - 2 times\n",
            "445 - 1 times\n"
          ]
        }
      ]
    },
    {
      "cell_type": "code",
      "source": [
        "\"\"\" first of all n input and for i in range(n) then sum t \"\"\"\n",
        "hi=-0\n",
        "n=int(input())\n",
        "lit=[]\n",
        "for i in range(n):\n",
        "  user=input().split()\n",
        "  sum=0\n",
        "  for k in range(len(user)):\n",
        "    sum+=int(user[k])\n",
        "  if sum>hi:\n",
        "    hi=sum\n",
        "    lit=user\n",
        "print(hi)\n",
        "print(lit)"
      ],
      "metadata": {
        "colab": {
          "base_uri": "https://localhost:8080/"
        },
        "id": "I5xh99d9MM2w",
        "outputId": "a1142e1e-e47f-40aa-a3c7-6ea39a86dcd3"
      },
      "execution_count": null,
      "outputs": [
        {
          "output_type": "stream",
          "name": "stdout",
          "text": [
            "1\n",
            "1000\n",
            "1000\n",
            "['1000']\n"
          ]
        }
      ]
    },
    {
      "cell_type": "code",
      "source": [
        "#List Task 2\n",
        "\n",
        "\n",
        "max_sum = 0\n",
        "listmax_sum = []\n",
        "\n",
        "user = int(input())\n",
        "\n",
        "for i in range(user):\n",
        "  initi_list = input().split()\n",
        "  initi_max_sum = 0\n",
        "\n",
        "  for item in initi_list:\n",
        "    initi_max_sum +=int(item)\n",
        "\n",
        "  if initi_max_sum > max_sum:\n",
        "    max_sum = initi_max_sum\n",
        "    listmax_sum = initi_list.copy()\n",
        "\n",
        "print(\"{}\\n{}\".format(max_sum,listmax_sum))"
      ],
      "metadata": {
        "colab": {
          "base_uri": "https://localhost:8080/"
        },
        "id": "bZtoFuTpYaUM",
        "outputId": "35ff5e9f-9480-41a8-d0e2-9fa480badfbf"
      },
      "execution_count": null,
      "outputs": [
        {
          "output_type": "stream",
          "name": "stdout",
          "text": [
            "4\n",
            "4 4 5\n",
            "10 10 10\n",
            "000\n",
            "12\n",
            "33\n",
            "['4', '4', '5']\n"
          ]
        }
      ]
    },
    {
      "cell_type": "code",
      "source": [
        "\n",
        "def ub_j(lit):\n",
        "    num_list = [num for num in range(1, len(lit))]\n",
        "    abs_list = []\n",
        "\n",
        "    for i in range(len(lit) - 1):\n",
        "        elem = lit[i] - lit[i + 1]\n",
        "        elem = abs(elem)\n",
        "        abs_list.append(elem)\n",
        "\n",
        "    if sorted(num_list) == sorted(abs_list):\n",
        "        return True\n",
        "    else:\n",
        "        return False\n",
        "user_input = input()\n",
        "result = []\n",
        "while user_input.upper() != \"STOP\":\n",
        "    lit = [int(num) for num in user_input.split()]\n",
        "\n",
        "    if ub_j(lit):\n",
        "        result.append(\"UB Jumper\")\n",
        "    else:\n",
        "        result.append(\"Not UB Jumper\")\n",
        "\n",
        "    user_input = input()\n",
        "\n",
        "for output in result:\n",
        "    print(output)"
      ],
      "metadata": {
        "id": "tyVpIR8hhywK",
        "colab": {
          "base_uri": "https://localhost:8080/"
        },
        "outputId": "e086571a-a7ec-4e49-904f-4f7420729a99"
      },
      "execution_count": null,
      "outputs": [
        {
          "output_type": "stream",
          "name": "stdout",
          "text": [
            "1 4 2 3 \n",
            "2 1 4 6 10 \n",
            "1 4 2 -1 6\n",
            "stop\n",
            "UB Jumper\n",
            "UB Jumper\n",
            "Not UB Jumper\n"
          ]
        }
      ]
    },
    {
      "cell_type": "code",
      "source": [
        "elig_count=0 #eligible_count \n",
        "user=input()\n",
        "x=int(user[0])\n",
        "print(x)\n",
        "y=int(user[-1])\n",
        "print(y)\n",
        "user=input().split()\n",
        "for i in user:\n",
        "  if int(i)+y<=5:\n",
        "    elig_count+=1\n",
        "print(elig_count//3)"
      ],
      "metadata": {
        "id": "X4RmlKapWfXL",
        "colab": {
          "base_uri": "https://localhost:8080/"
        },
        "outputId": "a4cdb81b-cbeb-4492-a250-9db123d890f1"
      },
      "execution_count": null,
      "outputs": [
        {
          "output_type": "stream",
          "name": "stdout",
          "text": [
            "5 2\n",
            "5\n",
            "2\n",
            "0 4 5 1 0\n",
            "1\n"
          ]
        }
      ]
    },
    {
      "cell_type": "code",
      "source": [
        "eli_count=0\n",
        "user=input()\n",
        "x=int(user[0])\n",
        "y=int(user[-1])\n",
        "user=input().split()\n",
        "for i in user:\n",
        "  if int(i)+y<=5:\n",
        "    eli_count+=1\n",
        "print(eli_count//3)"
      ],
      "metadata": {
        "colab": {
          "base_uri": "https://localhost:8080/"
        },
        "id": "6fj3Qu7tsDu9",
        "outputId": "8820514d-683e-490a-8076-45dca93aff50"
      },
      "execution_count": null,
      "outputs": [
        {
          "output_type": "stream",
          "name": "stdout",
          "text": [
            "6 5\n",
            "0 0 0 0 0 0\n",
            "2\n"
          ]
        }
      ]
    },
    {
      "cell_type": "markdown",
      "source": [
        "**Dictionary & Tuple**"
      ],
      "metadata": {
        "id": "piYs0Hz7t1XO"
      }
    },
    {
      "cell_type": "code",
      "source": [
        "dic_1=input().split(\",\")\n",
        "dic_2=input().split(\",\")#f_dic = final dic\n",
        "f_dic={}\n",
        "for i in dic_1:\n",
        "  i=i.split(\": \")\n",
        "  f_dic[i[0]]=int(i[1])\n",
        "for i in dic_2:\n",
        "  i=i.split(\": \")\n",
        "  if i[0] not in  f_dic.keys():\n",
        "    f_dic[i[0]] = int(i[1])\n",
        "  else:\n",
        "    f_dic[i[0]]+= int(i[1])\n",
        "\n",
        "dic_tmpvalu = []\n",
        "for i in f_dic.values():\n",
        "  if i not in dic_tmpvalu:\n",
        "    dic_tmpvalu.append(i)\n",
        "\n",
        "dict_values = tuple(sorted(dic_tmpvalu))\n",
        "print(\"{}\\nValues: {}\".format(f_dic, dict_values))"
      ],
      "metadata": {
        "colab": {
          "base_uri": "https://localhost:8080/"
        },
        "id": "9J680aM3t8X1",
        "outputId": "5b3f168a-73cf-45fa-88fa-0b4f56220fbd"
      },
      "execution_count": null,
      "outputs": [
        {
          "output_type": "stream",
          "name": "stdout",
          "text": [
            "a: 100, b: 100, c: 200, d: 300\n",
            "a: 300, b: 200, d: 400, e: 200\n",
            "{'a': 400, ' b': 300, ' c': 200, ' d': 700, ' e': 200}\n",
            "Values: (200, 300, 400, 700)\n"
          ]
        }
      ]
    },
    {
      "cell_type": "code",
      "source": [
        "dic={}\n",
        "while True:\n",
        "  user=input()\n",
        "  if user.upper()==\"STOP\":\n",
        "    break\n",
        "  else:\n",
        "    dic[user]=dic.get(user,0)+1\n",
        "  \"\"\"print(dic)\n",
        "dic.append(user)\n",
        "done={}\n",
        "for x in dic:\n",
        "  count = dic.count(x)\n",
        "  if x not in done:\n",
        "    done.append(x)\n",
        "    print(x, '-', count , 'times')\"\"\"\n",
        "for i,j in dic.items():\n",
        "  print(i, '-', j , 'times')"
      ],
      "metadata": {
        "colab": {
          "base_uri": "https://localhost:8080/"
        },
        "id": "mZrjbzjCt9mO",
        "outputId": "5f4f2adb-536a-4efc-a4c6-5dd46eb83d52"
      },
      "execution_count": null,
      "outputs": [
        {
          "output_type": "stream",
          "name": "stdout",
          "text": [
            "10\n",
            "20\n",
            "10\n",
            "30\n",
            "2\n",
            "20\n",
            "stop\n",
            "10 - 2 times\n",
            "20 - 2 times\n",
            "30 - 1 times\n",
            "2 - 1 times\n"
          ]
        }
      ]
    },
    {
      "cell_type": "code",
      "source": [
        "dic_revs={}\n",
        "user=input().split(\",\")\n",
        "for i in user:\n",
        "  i=i.split(\":\")\n",
        "  dic_revs[i[1]]=dic_revs.get(i[1],[])\n",
        "  dic_revs[i[1]].append(i[0])\n",
        "print(dic_revs)"
      ],
      "metadata": {
        "colab": {
          "base_uri": "https://localhost:8080/"
        },
        "id": "1qjqpRXcvBi_",
        "outputId": "fe8ba76c-d62a-4885-cea6-c2c3f6a4ca75"
      },
      "execution_count": null,
      "outputs": [
        {
          "output_type": "stream",
          "name": "stdout",
          "text": [
            "key1 : value1, key2 : value2, key3 : value1\n",
            "{' value1': ['key1 ', ' key3 '], ' value2': [' key2 ']}\n"
          ]
        }
      ]
    },
    {
      "cell_type": "code",
      "source": [
        "phone_valukey={\".\":1,\",\":11,\"?\":111,\"!\":1111,\":\":11111,\"A\":2,\"a\":2,\"B\":22,\"b\":22,\n",
        "               \"C\":222,\"c\":222,\"D\":3,\"d\":3,\"E\":33,\"e\":33,\"F\":333,\"f\":333,\"G\":4,\"g\":4,\n",
        "               \"H\":44,\"h\":44,\"I\":444,\"i\":444,\"J\":5,\"j\":5,\"K\":55,\"k\":55,\"L\":555,\"l\":555,\n",
        " \"M\":6,\"m\":6,\"N\":66,\"n\":66,\"O\":666,\"o\":666,\"P\":7,\"p\":7,\"Q\":77,\"q\":77,\"R\":777,\"r\":777,\"S\":7777,\"s\":7777,\"T\":8,\"t\":8,\n",
        " \"U\":88,\"u\":88,\"V\":888,\"v\":888,\"W\":9,\"w\":9,\"X\":99,\"x\":99,\"y\":999,\"Y\":999,\"Z\":9999,\"z\":9999,\" \":0}\n",
        "user = input(\"Enter Input: \")\n",
        "\n",
        "for i in user:\n",
        "    x = phone_valukey.get(i)\n",
        "    print(x,end='')"
      ],
      "metadata": {
        "colab": {
          "base_uri": "https://localhost:8080/"
        },
        "id": "lg-WNuHByPXM",
        "outputId": "4da39b4d-dca3-418f-e6fd-368f75105ba2"
      },
      "execution_count": null,
      "outputs": [
        {
          "output_type": "stream",
          "name": "stdout",
          "text": [
            "Enter Input: ddcfd\n",
            "332223333"
          ]
        }
      ]
    },
    {
      "cell_type": "code",
      "source": [
        "password=input()\n",
        "lo_count = sum(map(str.islower, password))\n",
        "print(lo_count)"
      ],
      "metadata": {
        "id": "tBT4vjvSoA6Z",
        "colab": {
          "base_uri": "https://localhost:8080/"
        },
        "outputId": "63fa006b-0a1f-4a9c-e30f-b264cd88bcf3"
      },
      "execution_count": null,
      "outputs": [
        {
          "output_type": "stream",
          "name": "stdout",
          "text": [
            "ada34\n",
            "3\n"
          ]
        }
      ]
    },
    {
      "cell_type": "code",
      "source": [],
      "metadata": {
        "id": "_R5uPrAgjohk"
      },
      "execution_count": null,
      "outputs": []
    },
    {
      "cell_type": "markdown",
      "source": [
        "**Function**"
      ],
      "metadata": {
        "id": "6b3tnq2Nk97y"
      }
    },
    {
      "cell_type": "code",
      "source": [
        "height, weight=map(int,input().split(\",\"))\n",
        "height =height/ 100\n",
        "bmi =  (weight/ height**2)\n",
        "if (bmi > 30 ):\n",
        "  print(\"Score is {:.1f}. You are Obese\".format(bmi))\n",
        "elif (bmi >=25 and bmi <=30):\n",
        "  print(\"Score is {:.1f}. You are Overweight\".format(bmi))\n",
        "elif (bmi >=18.5 and bmi <=24.9):\n",
        "  print(\"Score is {:.1f}. You are Normal\".format(bmi))\n",
        "else:\n",
        "  print(\"Score is {:.1f}. You are Underweight\".format(bmi))"
      ],
      "metadata": {
        "colab": {
          "base_uri": "https://localhost:8080/"
        },
        "id": "--iEa67Vjom3",
        "outputId": "f492316a-a52c-4870-fe95-6901fb9e8507"
      },
      "execution_count": null,
      "outputs": [
        {
          "output_type": "stream",
          "name": "stdout",
          "text": [
            "175,96\n",
            "Score is 31.3. You are Obese\n"
          ]
        }
      ]
    },
    {
      "cell_type": "code",
      "source": [
        "def bmi_chk(height, weight):\n",
        "  height = height / 100 \n",
        "  BMI = weight / height ** 2\n",
        "\n",
        "  if BMI < 18.5:\n",
        "      comnt = \"Underweight\"\n",
        "  elif BMI >= 18.5 and BMI <= 24.9:\n",
        "      comnt = \"Normal\"\n",
        "  elif BMI >= 25 and BMI <= 30:\n",
        "      comnt = \"Overweight\"\n",
        "  elif BMI > 30:\n",
        "      comnt = \"Obese\"\n",
        "\n",
        "  return f\"Score is {BMI:.1f}. You are {comnt}\"\n",
        "\n",
        "\n",
        "height, weight=map(int,input().split(\",\"))\n",
        "print(bmi_chk(height, weight))"
      ],
      "metadata": {
        "colab": {
          "base_uri": "https://localhost:8080/",
          "height": 53
        },
        "id": "9wUi3nNfoB5H",
        "outputId": "bd47a28d-6474-4c60-bef3-176514082e06"
      },
      "execution_count": null,
      "outputs": [
        {
          "name": "stdout",
          "output_type": "stream",
          "text": [
            "175,98\n"
          ]
        },
        {
          "output_type": "execute_result",
          "data": {
            "text/plain": [
              "'Score is 32.0. You are Obese'"
            ],
            "application/vnd.google.colaboratory.intrinsic+json": {
              "type": "string"
            }
          },
          "metadata": {},
          "execution_count": 31
        }
      ]
    },
    {
      "cell_type": "code",
      "source": [
        "def div_sum(min, max, div):\n",
        "  if div != 0:\n",
        "    return sum(num for num in range(min, max) if num % div == 0)\n",
        "  else:\n",
        "      return \"Divisor cannot be 0.\"\n",
        "min, max, div=map(int,input().split(\",\"))\n",
        "print(div_sum(min, max, div))"
      ],
      "metadata": {
        "colab": {
          "base_uri": "https://localhost:8080/"
        },
        "id": "J7NIDsfwpg4x",
        "outputId": "3b35a765-04ab-4315-e293-463af907025a"
      },
      "execution_count": null,
      "outputs": [
        {
          "output_type": "stream",
          "name": "stdout",
          "text": [
            "3,16,3\n",
            "45\n"
          ]
        }
      ]
    },
    {
      "cell_type": "code",
      "source": [
        "def div_sum(min, max, div):\n",
        "  if div != 0:\n",
        "    sum=0\n",
        "    for i in range(min,max):\n",
        "      if i%div==0:\n",
        "        sum+=i\n",
        "    return sum\n",
        "  else:\n",
        "      return \"Divisor cannot be 0.\"\n",
        "min, max, div=map(int,input().split(\",\"))\n",
        "print(div_sum(min, max, div))"
      ],
      "metadata": {
        "colab": {
          "base_uri": "https://localhost:8080/"
        },
        "id": "iKUQYv2Xr8P8",
        "outputId": "d6bc760f-d6d3-49e7-c8c4-1210826c9c0b"
      },
      "execution_count": null,
      "outputs": [
        {
          "output_type": "stream",
          "name": "stdout",
          "text": [
            "3,16,3\n",
            "45\n"
          ]
        }
      ]
    },
    {
      "cell_type": "code",
      "source": [
        "def FoodPanda(food, Location=\"Mohakhali\"):\n",
        "  if Location != \"Mohakhali\":\n",
        "        del_charge = 60\n",
        "  else:\n",
        "        del_charge = 40\n",
        "\n",
        "  if food == \"BBQ Chicken Chesse Burger\":\n",
        "        Meal_Cost = 250\n",
        "  elif food == \"Beef Burger\":\n",
        "        Meal_Cost = 170\n",
        "  elif food == \"Naga Drums\":\n",
        "        Meal_Cost = 200\n",
        "  else:\n",
        "        return \"The food is not on the Menu.\"\n",
        "\n",
        "  Tax = Meal_Cost * (8 / 100)\n",
        "\n",
        "  Total_Price = Meal_Cost + del_charge + Tax\n",
        "  return Total_Price\n",
        "print(FoodPanda(\"Beef Burger\", \"Dhanmondi\"))\n",
        "print(FoodPanda(\"Beef Burger\"))"
      ],
      "metadata": {
        "colab": {
          "base_uri": "https://localhost:8080/"
        },
        "id": "csnYpHmYuX9V",
        "outputId": "f8fb4bf9-2f83-4c02-ad1f-954f7ba7721e"
      },
      "execution_count": null,
      "outputs": [
        {
          "output_type": "stream",
          "name": "stdout",
          "text": [
            "243.6\n",
            "223.6\n"
          ]
        }
      ]
    },
    {
      "cell_type": "code",
      "source": [
        "def chillox(food,location=\"mohakali\"):\n",
        "  item={BBQ Chicken Cheese Burger:250,Beef Burger:170,Naga Drums:200}\n",
        "  delivary_charge=0\n",
        "  if location==\"mohakali\":\n",
        "    delivary_charge+=40\n",
        "  else:\n",
        "    delivary_charge+=60\n",
        "  if food==\"BBQ Chicken Cheese Burger\":\n",
        "    cost=250\n",
        "  elif food==\"Beef Burger\":\n",
        "    cost=170\n",
        "  elif food==\"Naga Drum\""
      ],
      "metadata": {
        "id": "qPx5JWiHAoLf"
      },
      "execution_count": null,
      "outputs": []
    },
    {
      "cell_type": "code",
      "source": [
        "#task4\n",
        "def replace_domain(email, domain, old_domain=\"kaaj.com\"):\n",
        "  new_email = \"\"\n",
        "  index = -1\n",
        "  for char in range(len(email)):\n",
        "        if email[char] == \"@\":\n",
        "            index = char\n",
        "            break\n",
        "\n",
        "  if index == -1:\n",
        "        return \"Incorrect E-Mail Adress!\"\n",
        "\n",
        "  new_email = email[: index + 1]\n",
        "\n",
        "  if old_domain in email:\n",
        "        new_email += domain\n",
        "        comment = \"Changed\"\n",
        "  else:\n",
        "        new_email += domain\n",
        "        comment = \"Unchanged\"\n",
        "\n",
        "  return f\"{comment}: {new_email}\"\n",
        "\n",
        "\n",
        "print(replace_domain(\"alice@kaaj.com\", \"sheba.xyz\", \"kaaj.com\"))\n",
        "print(replace_domain(\"bob@sheba.xyz\", \"sheba.xyz\"))\n",
        "print(replace_domain(\"bobsheba.xyz\", \"sheba.xyz\"))"
      ],
      "metadata": {
        "colab": {
          "base_uri": "https://localhost:8080/"
        },
        "id": "da3-WX-CuYE8",
        "outputId": "b9f4ddbc-130c-4e19-f7c6-5895e76347fe"
      },
      "execution_count": null,
      "outputs": [
        {
          "output_type": "stream",
          "name": "stdout",
          "text": [
            "Changed: alice@sheba.xyz\n",
            "Unchanged: bob@sheba.xyz\n",
            "Incorrect E-Mail Adress!\n"
          ]
        }
      ]
    },
    {
      "cell_type": "code",
      "source": [],
      "metadata": {
        "id": "xBR54G_rAeGR"
      },
      "execution_count": null,
      "outputs": []
    },
    {
      "cell_type": "code",
      "source": [
        "#task5\n",
        "def palindrome(word):\n",
        "  string = \"\"\n",
        "  for char in word:\n",
        "        if char != \" \":\n",
        "            string += char\n",
        "  if string == string[::-1]:\n",
        "        print(\"Palindrome\")\n",
        "  else:\n",
        "        print(\"Not a palindrome\")\n",
        "\n",
        "\n",
        "word = input().lower()\n",
        "palindrome(word)"
      ],
      "metadata": {
        "colab": {
          "base_uri": "https://localhost:8080/"
        },
        "id": "bAac-hYXxC1t",
        "outputId": "6797279a-1cb3-4061-dd18-d6c1652b1957"
      },
      "execution_count": null,
      "outputs": [
        {
          "output_type": "stream",
          "name": "stdout",
          "text": [
            "ses\n",
            "Palindrome\n"
          ]
        }
      ]
    },
    {
      "cell_type": "code",
      "source": [
        "#task6\n"
      ],
      "metadata": {
        "id": "1JzoCTnDuYJz"
      },
      "execution_count": null,
      "outputs": []
    },
    {
      "cell_type": "code",
      "source": [],
      "metadata": {
        "id": "RG3pmMAsxB94"
      },
      "execution_count": null,
      "outputs": []
    }
  ]
}